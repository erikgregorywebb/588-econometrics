{
 "cells": [
  {
   "cell_type": "markdown",
   "metadata": {},
   "source": [
    "# Regression Trees"
   ]
  },
  {
   "cell_type": "markdown",
   "metadata": {},
   "source": [
    "![image.png](attachment:image.png)"
   ]
  },
  {
   "cell_type": "markdown",
   "metadata": {},
   "source": [
    "## Introduction"
   ]
  },
  {
   "cell_type": "markdown",
   "metadata": {},
   "source": [
    "Prediction trees are a particular kind of nonlinear predictive model. There are two varieties: regression trees and classification trees. Of course, we will be focused on regression trees. We use linear regression as a method of making quantitative predictions. However, linear regressions do not do well with a nonlinear models. A solution to this problem can be to partition the data into smaller regions where we are able to have more manageable linear interactions. We can recursively subdivide the partitions until we get extremely manageable pieces that can be estimated with simple regression models. This process is known as recursive partitioning. Hence, we use recursive partitioning to sort the data into small, manageable sections and then use a simple model for each part of the partition. \n",
    "\n",
    "We can represent the recursive partitioning process using a regression tree. Thus, each terminal node of the regression tree represents a part of the partition that has an estimate found using a simple model. The estimate found applies only to the specific partition. We navigate the tree by asking a sequence of questions about specific features for some point, x. Each question, usually refers to only a single attribute with a yes or no answer. For example, a question of the type could concern gender of the observation (i.e. is the observation male or not). The variables can be either continuous or discrete (but ordered). \n",
    "\n",
    "For classic regression trees, the model in each cell is just a constant estimate of Y. That is, suppose the points (x1,y1), (x2,y2), …, (xc,yc) are all the samples belonging to the node x. Then our model for x is: $$\\hat{y}=\\frac{1}{c} \\sum_{i=1}^{c}y_i$$ This is the sample mean of the dependent variable in that cell. This is a piecewise-constant model. There are several advantages to the piecewise-constant model:\n",
    "\t\t\t\t\t\n",
    "1. Making predictions is fast, since the calculation process is not complicated\n",
    "2. It’s easy to understand what variables are important in prediction (look at the tree)\n",
    "3. If some data is missing, we might not be able to go all the way down the tree to a leaf, but we can still make a prediction by averaging all the leaves in the subtree we do reach\n",
    "4. The model gives a jagged response, so it can work when the true regression surface is not smooth. If it is smooth, though, the piecewise-constant surface can approximate it arbitrarily closely (with enough leaves)\n",
    "5. There are fast, reliable algorithms to learn these trees \t\t\t\t\t\t\n",
    "\n",
    "One of the problems with clustering was that we needed to balance the informativeness of the clusters with parsimony, so as to not just put every point in its own cluster. Similarly, we could just end up putting every point in its own leaf-node, which would not be very useful. A typical stopping criterion is to stop growing the tree when further splits gives less than some minimal amount of extra information, or when they would result in nodes containing less than a small percentage of the total data.  \n",
    "\n",
    "Regression trees can be used to address problems in which we want to predict the value of a continuous variable from a set of continuous and/or categorical variables. \n",
    "\n",
    "Examples:\n",
    "\n",
    "Health (Type II Diabetes)\n",
    "* Sugar Consumption (avg. grams per day) (continuous) \n",
    "* Weight (continuous)\n",
    "* Number of days per week with greater than 30 minutes of exercise (categorical) \n",
    "* Age (continuous)\n",
    "* Parent has diabetes (categorical) \n",
    "* Hours worked/week (continuous)\n",
    "\n",
    "Election outcomes (voter-share) (continuous)\n",
    "* State/Region (categorical)\n",
    "* Campaign spending (continuous)\n",
    "* Incumbent (categorical)\n",
    "* Political Party (categorical)\n",
    "* GDP Growth (continuous)\n",
    "* General vs. Midterm Election (categorical)\n",
    "\n",
    "Selling prices of single family homes (continuous)\n",
    "* Square footage (continuous)\n",
    "* Style of home (categorical)\n",
    "* Zip code/county/state/etc. (categorical)\n",
    "* Median income of neighborhood/zip code (if area variable is larger than zip code) (continuous)\n"
   ]
  },
  {
   "cell_type": "markdown",
   "metadata": {},
   "source": [
    "## Analytical Framework"
   ]
  },
  {
   "cell_type": "markdown",
   "metadata": {},
   "source": [
    "The basic idea behind regression trees is that each good factor (variable in ML) can be used to make a \"decision\" about the likelihood of an outcome. Each split is called a _node_."
   ]
  },
  {
   "cell_type": "markdown",
   "metadata": {},
   "source": [
    "For example, to predict whether a customer will buy a certain kind of computer, we might use the following simple decision tree:"
   ]
  },
  {
   "cell_type": "markdown",
   "metadata": {},
   "source": [
    "![image.png](attachment:image.png)"
   ]
  },
  {
   "cell_type": "markdown",
   "metadata": {},
   "source": [
    "If we have enough data, we can use to train a model that will be able to use the same general idea to predict outcomes given new (similar) data."
   ]
  },
  {
   "cell_type": "markdown",
   "metadata": {},
   "source": [
    "### The Algorithm"
   ]
  },
  {
   "cell_type": "markdown",
   "metadata": {},
   "source": [
    "The goal of the regression tree model is to minimize the sum of squared residuals, as in OLS regression. However, in the regression tree model, we are minimizing the sum of squared residuals for a given tree T.\n",
    "The sum of squared residuals for a tree T is $$S=\\sum_{c\\in terminal nodes(T)}\\sum_{i\\in C}(y_i-m_c)^2$$ where $m_c=\\frac{1}{n_c}\\sum_{i\\in C}y_i$, the prediction for leaf c. We make our splits to minimize S.\n",
    "\n",
    "The Algorithm:\n",
    "1. Start with a single node containing all points. Calculate $m_c$ and S. \n",
    "2. If all the points in the node have the same value for all the independent variables, stop. Otherwise, search over all binary splits of all variables for the one which will reduce S as much as possible. IF the largest decrease in S would be less than some threshold delta, or one of the resulting nodes would contain less than q points, stop. Otherwise, take that split, creating two new nodes.\n",
    "3. In each new node, go back to step 1. \n",
    "\n",
    "A more successful approach to finding regression trees uses the idea of cross-validation. We randomly divide our data into a training set and a testing set, (say, 50% training and 50% testing). We then apply the basic tree-growing algorithm to the training data only, with q = 1 and δ = 0 — that is, we grow the largest tree we can. This is generally going to be too large and will over-fit the data. We then use cross-validation to prune the tree. At each pair of terminal nodes with a common parent, we evaluate the error on the testing data, and see whether the sum of squares would be smaller by remove those two nodes and making their parent a terminal node. This is repeated until pruning no longer improves the error on the testing data. \n"
   ]
  },
  {
   "cell_type": "markdown",
   "metadata": {},
   "source": [
    "### Key Concept: Gini Impurity"
   ]
  },
  {
   "cell_type": "markdown",
   "metadata": {},
   "source": [
    "For now, we will start with the simplest case: a classification problem with two outcomes. A common example uses a dataset of passengers on the Titanic to predict who survives.\n",
    "\n",
    "Ideally, we want factors that are as predictive as possible. If men and women are equally likely to survive, the variable can't tell us much (barring interaction with other variables). Fortunately (depending on your perspective, but at least for prediction purposes), it turns out women are more likely than men to survive, so _sex_ will be an important factor in our tree.\n",
    "\n",
    "That means that a node splitting on _sex_ has relatively low Gini impurity. A factor with high purity is very predictive of the outcome. Conversely, the impurity of a node would be maximized if equal proportions of its values (males and females here) survived.\n",
    "\n",
    "Gini impurity is formally defined as:"
   ]
  },
  {
   "cell_type": "markdown",
   "metadata": {},
   "source": [
    "$$Gini_{i} = 1 - \\sum_{k=1}^{n}{p_{i,k}^2}$$"
   ]
  },
  {
   "cell_type": "markdown",
   "metadata": {},
   "source": [
    "For example, if it were the case that 70% of the survivors were females, the Gini impurity of the _sex_ node would be: "
   ]
  },
  {
   "cell_type": "markdown",
   "metadata": {},
   "source": [
    "$$1-0.3^2-0.7^2 = 0.42$$"
   ]
  },
  {
   "cell_type": "markdown",
   "metadata": {},
   "source": [
    "In general, it makes sense to grow a tree **greedily** - starting with the purest feature splits, then moving to the next."
   ]
  },
  {
   "cell_type": "markdown",
   "metadata": {},
   "source": [
    "Overfitting is a major concern with regression trees - you might get great scores within your training set, but then find that it generalizes poorly. As is often the case with decision trees, there is a tradeoff between bias, variance, and overfitting. The shallower the tree, the greater the bias and variance, but this may be preferable to overfitting. There are several hyperparameters you can include in the model to keep this from happening, such as:\n",
    "\n",
    "max depth\n",
    "\n",
    "min_samples_split\n",
    "\n",
    "min_samples_leaf\n",
    "\n",
    "min_weight_fraction_leaf\n",
    "\n",
    "max_leaf_nodes\n"
   ]
  },
  {
   "cell_type": "markdown",
   "metadata": {},
   "source": [
    "### Pros and Cons of Regression Trees"
   ]
  },
  {
   "cell_type": "markdown",
   "metadata": {},
   "source": [
    "Regression trees are among the easiest to visualize of ML models. They are intuitive and not hard to explain, even to someone with little econometrics training. They are computationally efficient and don't have the same problems with missing values, non-numerical or cateorical data, and collinearity."
   ]
  },
  {
   "cell_type": "markdown",
   "metadata": {},
   "source": [
    "On the downside, they often don't have the highest accuracy in prediction and can be sensitive to minor changes in data. One way to overcome these weaknesses is to use multiple decision trees aggregated (random forests, boosting) or in conjunction with other models (stacking)."
   ]
  },
  {
   "cell_type": "markdown",
   "metadata": {},
   "source": [
    "The rest is from https://github.com/ageron/handson-ml/blob/master/06_decision_trees.ipynb. We can change it to fit our specific example, but this is a decent starting point."
   ]
  },
  {
   "cell_type": "markdown",
   "metadata": {},
   "source": [
    "<The code below is from https://github.com/ageron/handson-ml/blob/master/06_decision_trees.ipynb and we can change it to fit our project, but it is a decent starting point.>"
   ]
  },
  {
   "cell_type": "markdown",
   "metadata": {},
   "source": [
    "## Python Setup"
   ]
  },
  {
   "cell_type": "code",
   "execution_count": 12,
   "metadata": {
    "collapsed": false
   },
   "outputs": [],
   "source": [
    "##############################################\n",
    "sys.path.append('r:\\\\joepriceresearch\\\\python\\\\anaconda3\\\\lib\\\\site-packages')\n",
    "import seaborn"
   ]
  },
  {
   "cell_type": "markdown",
   "metadata": {},
   "source": [
    "Quick hack for the stupid high-maintenance lab computers"
   ]
  },
  {
   "cell_type": "code",
   "execution_count": 13,
   "metadata": {
    "collapsed": true
   },
   "outputs": [],
   "source": [
    "import sys\n",
    "sys.path.append('r:\\\\joepriceresearch\\\\python\\\\anaconda3\\\\lib\\\\site-packages')\n",
    "import seaborn as sns"
   ]
  },
  {
   "cell_type": "code",
   "execution_count": 14,
   "metadata": {
    "collapsed": false
   },
   "outputs": [],
   "source": [
    "import numpy as np\n",
    "import pandas as pd\n",
    "pd.set_option('display.float_format', lambda x: '{:.3f}'.format(x))\n",
    "import os\n",
    "\n",
    "from scipy import stats\n",
    "from scipy.stats import norm, skew\n",
    "\n",
    "import seaborn as sns\n",
    "color = sns.color_palette()\n",
    "sns.set_style('darkgrid')\n",
    "import warnings\n",
    "def ignore_warn(*args, **kwargs):\n",
    "    pass\n",
    "warnings.warn = ignore_warn\n",
    "import matplotlib.pyplot as plt\n",
    "%matplotlib inline"
   ]
  },
  {
   "cell_type": "code",
   "execution_count": null,
   "metadata": {
    "collapsed": true
   },
   "outputs": [],
   "source": []
  },
  {
   "cell_type": "code",
   "execution_count": 15,
   "metadata": {
    "collapsed": true
   },
   "outputs": [],
   "source": [
    "os.chdir('C:\\\\Users\\\\iriley\\\\Documents\\\\588-econometrics-master')"
   ]
  },
  {
   "cell_type": "code",
   "execution_count": null,
   "metadata": {
    "collapsed": true
   },
   "outputs": [],
   "source": []
  },
  {
   "cell_type": "code",
   "execution_count": 9,
   "metadata": {
    "collapsed": false
   },
   "outputs": [],
   "source": [
    "#os.chdir('R:\\\\JoePriceResearch\\\\austin_institute\\\\baseball_fatherhood\\\\All Data')\n",
    "#isaac = pandas.read_stata('countyfips.dta')"
   ]
  },
  {
   "cell_type": "code",
   "execution_count": 12,
   "metadata": {
    "collapsed": false
   },
   "outputs": [],
   "source": [
    "#isaac.head()"
   ]
  },
  {
   "cell_type": "code",
   "execution_count": 17,
   "metadata": {
    "collapsed": false
   },
   "outputs": [],
   "source": [
    "df = pd.read_stata('PROP_CO_FOCO.dta')"
   ]
  },
  {
   "cell_type": "code",
   "execution_count": 18,
   "metadata": {
    "collapsed": false
   },
   "outputs": [
    {
     "data": {
      "text/html": [
       "<div>\n",
       "<table border=\"1\" class=\"dataframe\">\n",
       "  <thead>\n",
       "    <tr style=\"text-align: right;\">\n",
       "      <th></th>\n",
       "      <th>ID</th>\n",
       "      <th>PID</th>\n",
       "      <th>PID2</th>\n",
       "      <th>FNAME</th>\n",
       "      <th>MNAME</th>\n",
       "      <th>LNAME</th>\n",
       "      <th>SUFFIX</th>\n",
       "      <th>FNAME2</th>\n",
       "      <th>MNAME2</th>\n",
       "      <th>LNAME2</th>\n",
       "      <th>...</th>\n",
       "      <th>PROP_INPUT_STATE</th>\n",
       "      <th>PROP_INPUT_ZIP</th>\n",
       "      <th>ADDRID</th>\n",
       "      <th>ADDRID2</th>\n",
       "      <th>HHID</th>\n",
       "      <th>HHID2</th>\n",
       "      <th>INTERNAL2</th>\n",
       "      <th>INTERNAL3</th>\n",
       "      <th>INTERNAL4</th>\n",
       "      <th>INTERNAL5</th>\n",
       "    </tr>\n",
       "  </thead>\n",
       "  <tbody>\n",
       "    <tr>\n",
       "      <th>0</th>\n",
       "      <td>294284</td>\n",
       "      <td>N3939CR413FMIKMNR2KD</td>\n",
       "      <td></td>\n",
       "      <td></td>\n",
       "      <td></td>\n",
       "      <td></td>\n",
       "      <td></td>\n",
       "      <td></td>\n",
       "      <td></td>\n",
       "      <td></td>\n",
       "      <td>...</td>\n",
       "      <td>CO</td>\n",
       "      <td>814015586.000</td>\n",
       "      <td>81840100</td>\n",
       "      <td>109895812</td>\n",
       "      <td></td>\n",
       "      <td></td>\n",
       "      <td>nan</td>\n",
       "      <td>nan</td>\n",
       "      <td>nan</td>\n",
       "      <td>nan</td>\n",
       "    </tr>\n",
       "    <tr>\n",
       "      <th>1</th>\n",
       "      <td>309401</td>\n",
       "      <td>N393944CX1CTMFYYNUER</td>\n",
       "      <td></td>\n",
       "      <td>TORRI</td>\n",
       "      <td></td>\n",
       "      <td>DOMONIC</td>\n",
       "      <td></td>\n",
       "      <td></td>\n",
       "      <td></td>\n",
       "      <td></td>\n",
       "      <td>...</td>\n",
       "      <td>CO</td>\n",
       "      <td>812122048.000</td>\n",
       "      <td>118079025</td>\n",
       "      <td>212677438</td>\n",
       "      <td>118079025DOMONIC</td>\n",
       "      <td></td>\n",
       "      <td>nan</td>\n",
       "      <td>nan</td>\n",
       "      <td>nan</td>\n",
       "      <td>nan</td>\n",
       "    </tr>\n",
       "    <tr>\n",
       "      <th>2</th>\n",
       "      <td>832710</td>\n",
       "      <td>N3939WPDQ7AXNDRPMPDC</td>\n",
       "      <td></td>\n",
       "      <td>MATT</td>\n",
       "      <td></td>\n",
       "      <td>BUFFINGTON</td>\n",
       "      <td></td>\n",
       "      <td></td>\n",
       "      <td></td>\n",
       "      <td></td>\n",
       "      <td>...</td>\n",
       "      <td>CO</td>\n",
       "      <td>80831.000</td>\n",
       "      <td>660794428</td>\n",
       "      <td>62912901</td>\n",
       "      <td>660794428BUFFINGTON</td>\n",
       "      <td></td>\n",
       "      <td>nan</td>\n",
       "      <td>nan</td>\n",
       "      <td>nan</td>\n",
       "      <td>nan</td>\n",
       "    </tr>\n",
       "    <tr>\n",
       "      <th>3</th>\n",
       "      <td>890247</td>\n",
       "      <td>N3939FBG9XGVYDQQBH7X</td>\n",
       "      <td></td>\n",
       "      <td></td>\n",
       "      <td></td>\n",
       "      <td></td>\n",
       "      <td></td>\n",
       "      <td></td>\n",
       "      <td></td>\n",
       "      <td></td>\n",
       "      <td>...</td>\n",
       "      <td>CO</td>\n",
       "      <td>80808.000</td>\n",
       "      <td>668849297</td>\n",
       "      <td>145201086</td>\n",
       "      <td>668849297</td>\n",
       "      <td></td>\n",
       "      <td>nan</td>\n",
       "      <td>nan</td>\n",
       "      <td>nan</td>\n",
       "      <td>nan</td>\n",
       "    </tr>\n",
       "    <tr>\n",
       "      <th>4</th>\n",
       "      <td>911021</td>\n",
       "      <td>N39396DMZOMYRB4DZ6ID</td>\n",
       "      <td>N3939WH38VZOPSV6LOQD</td>\n",
       "      <td>MATTHEW</td>\n",
       "      <td>B</td>\n",
       "      <td>KEYSER</td>\n",
       "      <td></td>\n",
       "      <td>ALLAN</td>\n",
       "      <td>ALEIX ANTOINETTE</td>\n",
       "      <td>MCHALE</td>\n",
       "      <td>...</td>\n",
       "      <td>CO</td>\n",
       "      <td>81131.000</td>\n",
       "      <td>662788595</td>\n",
       "      <td>77851827</td>\n",
       "      <td>662788595KEYSER</td>\n",
       "      <td>77851827MCHALE</td>\n",
       "      <td>nan</td>\n",
       "      <td>nan</td>\n",
       "      <td>nan</td>\n",
       "      <td>nan</td>\n",
       "    </tr>\n",
       "  </tbody>\n",
       "</table>\n",
       "<p>5 rows × 219 columns</p>\n",
       "</div>"
      ],
      "text/plain": [
       "       ID                   PID                  PID2    FNAME MNAME  \\\n",
       "0  294284  N3939CR413FMIKMNR2KD                                        \n",
       "1  309401  N393944CX1CTMFYYNUER                          TORRI         \n",
       "2  832710  N3939WPDQ7AXNDRPMPDC                           MATT         \n",
       "3  890247  N3939FBG9XGVYDQQBH7X                                        \n",
       "4  911021  N39396DMZOMYRB4DZ6ID  N3939WH38VZOPSV6LOQD  MATTHEW     B   \n",
       "\n",
       "        LNAME SUFFIX FNAME2            MNAME2  LNAME2    ...     \\\n",
       "0                                                        ...      \n",
       "1     DOMONIC                                            ...      \n",
       "2  BUFFINGTON                                            ...      \n",
       "3                                                        ...      \n",
       "4      KEYSER         ALLAN  ALEIX ANTOINETTE  MCHALE    ...      \n",
       "\n",
       "  PROP_INPUT_STATE PROP_INPUT_ZIP     ADDRID    ADDRID2                 HHID  \\\n",
       "0               CO  814015586.000   81840100  109895812                        \n",
       "1               CO  812122048.000  118079025  212677438     118079025DOMONIC   \n",
       "2               CO      80831.000  660794428   62912901  660794428BUFFINGTON   \n",
       "3               CO      80808.000  668849297  145201086            668849297   \n",
       "4               CO      81131.000  662788595   77851827      662788595KEYSER   \n",
       "\n",
       "            HHID2 INTERNAL2 INTERNAL3 INTERNAL4 INTERNAL5  \n",
       "0                       nan       nan       nan       nan  \n",
       "1                       nan       nan       nan       nan  \n",
       "2                       nan       nan       nan       nan  \n",
       "3                       nan       nan       nan       nan  \n",
       "4  77851827MCHALE       nan       nan       nan       nan  \n",
       "\n",
       "[5 rows x 219 columns]"
      ]
     },
     "execution_count": 18,
     "metadata": {},
     "output_type": "execute_result"
    }
   ],
   "source": [
    "df.head()"
   ]
  },
  {
   "cell_type": "code",
   "execution_count": 19,
   "metadata": {
    "collapsed": false
   },
   "outputs": [
    {
     "data": {
      "text/html": [
       "<div>\n",
       "<table border=\"1\" class=\"dataframe\">\n",
       "  <thead>\n",
       "    <tr style=\"text-align: right;\">\n",
       "      <th></th>\n",
       "      <th>ID</th>\n",
       "      <th>PID</th>\n",
       "      <th>PID2</th>\n",
       "      <th>FNAME</th>\n",
       "      <th>MNAME</th>\n",
       "      <th>LNAME</th>\n",
       "      <th>SUFFIX</th>\n",
       "      <th>FNAME2</th>\n",
       "      <th>MNAME2</th>\n",
       "      <th>LNAME2</th>\n",
       "      <th>...</th>\n",
       "      <th>PROP_INPUT_STATE</th>\n",
       "      <th>PROP_INPUT_ZIP</th>\n",
       "      <th>ADDRID</th>\n",
       "      <th>ADDRID2</th>\n",
       "      <th>HHID</th>\n",
       "      <th>HHID2</th>\n",
       "      <th>INTERNAL2</th>\n",
       "      <th>INTERNAL3</th>\n",
       "      <th>INTERNAL4</th>\n",
       "      <th>INTERNAL5</th>\n",
       "    </tr>\n",
       "  </thead>\n",
       "  <tbody>\n",
       "    <tr>\n",
       "      <th>84176</th>\n",
       "      <td>149658579</td>\n",
       "      <td>N3939VBM5ZCXRCAMYQ78</td>\n",
       "      <td></td>\n",
       "      <td>CHARLES</td>\n",
       "      <td>G</td>\n",
       "      <td>BIERBAUM</td>\n",
       "      <td></td>\n",
       "      <td></td>\n",
       "      <td></td>\n",
       "      <td></td>\n",
       "      <td>...</td>\n",
       "      <td>CO</td>\n",
       "      <td>805214407.000</td>\n",
       "      <td>204485284</td>\n",
       "      <td>133882488</td>\n",
       "      <td>204485284BIERBAUM</td>\n",
       "      <td></td>\n",
       "      <td>nan</td>\n",
       "      <td>nan</td>\n",
       "      <td>nan</td>\n",
       "      <td>nan</td>\n",
       "    </tr>\n",
       "    <tr>\n",
       "      <th>84177</th>\n",
       "      <td>149667246</td>\n",
       "      <td>N3939WRFBHARIKNS62ZZ</td>\n",
       "      <td>Y39394441746208</td>\n",
       "      <td>RICHARD</td>\n",
       "      <td>L</td>\n",
       "      <td>ANDERSON</td>\n",
       "      <td></td>\n",
       "      <td>ELEANOR</td>\n",
       "      <td>P</td>\n",
       "      <td>ANDERSON</td>\n",
       "      <td>...</td>\n",
       "      <td>CO</td>\n",
       "      <td>809096409.000</td>\n",
       "      <td>203734165</td>\n",
       "      <td>78895889</td>\n",
       "      <td>203734165ANDERSON</td>\n",
       "      <td>78895889ANDERSON</td>\n",
       "      <td>nan</td>\n",
       "      <td>nan</td>\n",
       "      <td>nan</td>\n",
       "      <td>nan</td>\n",
       "    </tr>\n",
       "    <tr>\n",
       "      <th>84178</th>\n",
       "      <td>149670774</td>\n",
       "      <td>N3939QFRNTRCZAWOHE8L</td>\n",
       "      <td></td>\n",
       "      <td></td>\n",
       "      <td></td>\n",
       "      <td></td>\n",
       "      <td></td>\n",
       "      <td></td>\n",
       "      <td></td>\n",
       "      <td></td>\n",
       "      <td>...</td>\n",
       "      <td>CO</td>\n",
       "      <td>805261494.000</td>\n",
       "      <td>218526278</td>\n",
       "      <td>126895577</td>\n",
       "      <td></td>\n",
       "      <td></td>\n",
       "      <td>nan</td>\n",
       "      <td>nan</td>\n",
       "      <td>nan</td>\n",
       "      <td>nan</td>\n",
       "    </tr>\n",
       "    <tr>\n",
       "      <th>84179</th>\n",
       "      <td>149671364</td>\n",
       "      <td>Y39394089303141</td>\n",
       "      <td>Y39394490554175</td>\n",
       "      <td>CONSTANCE</td>\n",
       "      <td></td>\n",
       "      <td>BEHR</td>\n",
       "      <td></td>\n",
       "      <td>PHILLIS</td>\n",
       "      <td></td>\n",
       "      <td>CHANTLER</td>\n",
       "      <td>...</td>\n",
       "      <td>CO</td>\n",
       "      <td>805246037.000</td>\n",
       "      <td>104034224</td>\n",
       "      <td>104034224</td>\n",
       "      <td>104034224BEHR</td>\n",
       "      <td>104034224CHANTLER</td>\n",
       "      <td>nan</td>\n",
       "      <td>nan</td>\n",
       "      <td>nan</td>\n",
       "      <td>nan</td>\n",
       "    </tr>\n",
       "    <tr>\n",
       "      <th>84180</th>\n",
       "      <td>149672972</td>\n",
       "      <td>Y39394089810591</td>\n",
       "      <td>Y39394424262218</td>\n",
       "      <td>LELAND</td>\n",
       "      <td>E</td>\n",
       "      <td>EVANS</td>\n",
       "      <td></td>\n",
       "      <td>SONDRA</td>\n",
       "      <td>KAY</td>\n",
       "      <td>EVANS</td>\n",
       "      <td>...</td>\n",
       "      <td>CO</td>\n",
       "      <td>80545.000</td>\n",
       "      <td>680845</td>\n",
       "      <td>207808303</td>\n",
       "      <td>680845EVANS</td>\n",
       "      <td>207808303EVANS</td>\n",
       "      <td>nan</td>\n",
       "      <td>nan</td>\n",
       "      <td>nan</td>\n",
       "      <td>nan</td>\n",
       "    </tr>\n",
       "  </tbody>\n",
       "</table>\n",
       "<p>5 rows × 219 columns</p>\n",
       "</div>"
      ],
      "text/plain": [
       "              ID                   PID             PID2      FNAME MNAME  \\\n",
       "84176  149658579  N3939VBM5ZCXRCAMYQ78                     CHARLES     G   \n",
       "84177  149667246  N3939WRFBHARIKNS62ZZ  Y39394441746208    RICHARD     L   \n",
       "84178  149670774  N3939QFRNTRCZAWOHE8L                                     \n",
       "84179  149671364       Y39394089303141  Y39394490554175  CONSTANCE         \n",
       "84180  149672972       Y39394089810591  Y39394424262218     LELAND     E   \n",
       "\n",
       "          LNAME SUFFIX   FNAME2 MNAME2    LNAME2    ...    PROP_INPUT_STATE  \\\n",
       "84176  BIERBAUM                                     ...                  CO   \n",
       "84177  ANDERSON         ELEANOR      P  ANDERSON    ...                  CO   \n",
       "84178                                               ...                  CO   \n",
       "84179      BEHR         PHILLIS         CHANTLER    ...                  CO   \n",
       "84180     EVANS          SONDRA    KAY     EVANS    ...                  CO   \n",
       "\n",
       "      PROP_INPUT_ZIP     ADDRID    ADDRID2               HHID  \\\n",
       "84176  805214407.000  204485284  133882488  204485284BIERBAUM   \n",
       "84177  809096409.000  203734165   78895889  203734165ANDERSON   \n",
       "84178  805261494.000  218526278  126895577                      \n",
       "84179  805246037.000  104034224  104034224      104034224BEHR   \n",
       "84180      80545.000     680845  207808303        680845EVANS   \n",
       "\n",
       "                   HHID2 INTERNAL2 INTERNAL3 INTERNAL4 INTERNAL5  \n",
       "84176                          nan       nan       nan       nan  \n",
       "84177   78895889ANDERSON       nan       nan       nan       nan  \n",
       "84178                          nan       nan       nan       nan  \n",
       "84179  104034224CHANTLER       nan       nan       nan       nan  \n",
       "84180     207808303EVANS       nan       nan       nan       nan  \n",
       "\n",
       "[5 rows x 219 columns]"
      ]
     },
     "execution_count": 19,
     "metadata": {},
     "output_type": "execute_result"
    }
   ],
   "source": [
    "df.tail()"
   ]
  },
  {
   "cell_type": "markdown",
   "metadata": {},
   "source": [
    "### Data Cleaning"
   ]
  },
  {
   "cell_type": "markdown",
   "metadata": {},
   "source": [
    "We first need to check the shape of the data frame."
   ]
  },
  {
   "cell_type": "code",
   "execution_count": 20,
   "metadata": {
    "collapsed": false
   },
   "outputs": [
    {
     "name": "stdout",
     "output_type": "stream",
     "text": [
      "(84181, 219)\n"
     ]
    }
   ],
   "source": [
    "print(format(df.shape))"
   ]
  },
  {
   "cell_type": "markdown",
   "metadata": {},
   "source": [
    "#"
   ]
  },
  {
   "cell_type": "code",
   "execution_count": 22,
   "metadata": {
    "collapsed": true
   },
   "outputs": [],
   "source": [
    "#ID = df['PROP_VALCALC']"
   ]
  },
  {
   "cell_type": "markdown",
   "metadata": {},
   "source": [
    "#"
   ]
  },
  {
   "cell_type": "code",
   "execution_count": 24,
   "metadata": {
    "collapsed": false
   },
   "outputs": [],
   "source": [
    "#ID.head()"
   ]
  },
  {
   "cell_type": "code",
   "execution_count": null,
   "metadata": {
    "collapsed": true
   },
   "outputs": [],
   "source": []
  },
  {
   "cell_type": "code",
   "execution_count": 40,
   "metadata": {
    "collapsed": false
   },
   "outputs": [],
   "source": [
    "#df.drop('PROP_VALCALC', axis = 1, inplace = True)\n"
   ]
  },
  {
   "cell_type": "markdown",
   "metadata": {},
   "source": [
    "#"
   ]
  },
  {
   "cell_type": "code",
   "execution_count": 26,
   "metadata": {
    "collapsed": false
   },
   "outputs": [],
   "source": [
    "#print(format(df.shape))"
   ]
  },
  {
   "cell_type": "markdown",
   "metadata": {},
   "source": [
    "#"
   ]
  },
  {
   "cell_type": "code",
   "execution_count": 27,
   "metadata": {
    "collapsed": true
   },
   "outputs": [],
   "source": [
    "def instascatter(frame, xvar, yvar, xname, yname, title):\n",
    "    fig, ax = plt.subplots()\n",
    "    ax.scatter(x = frame[xvar], y = frame[yvar])\n",
    "    plt.ylabel(yname, fontsize=14)\n",
    "    plt.xlabel(xname, fontsize=14)\n",
    "    plt.title(title, fontsize = 14)\n",
    "    plt.show()"
   ]
  },
  {
   "cell_type": "markdown",
   "metadata": {},
   "source": [
    "Lets see the scatterplot of valuation on square footage."
   ]
  },
  {
   "cell_type": "code",
   "execution_count": 28,
   "metadata": {
    "collapsed": false
   },
   "outputs": [
    {
     "data": {
      "image/png": "[encoded data removed]",
      "text/plain": [
       "<matplotlib.figure.Figure at 0x2da8c550>"
      ]
     },
     "metadata": {},
     "output_type": "display_data"
    }
   ],
   "source": [
    "instascatter(df, 'PROP_GROSSSQFT', 'PROP_VALCALC', 'Gross square feet', 'Estimated value', 'Square footage and Housing Value')"
   ]
  },
  {
   "cell_type": "markdown",
   "metadata": {},
   "source": [
    "We see one extreme outlier that we can drop in good conscience."
   ]
  },
  {
   "cell_type": "code",
   "execution_count": 29,
   "metadata": {
    "collapsed": false
   },
   "outputs": [],
   "source": [
    "df = df.drop(df[df['PROP_GROSSSQFT']>40000].index)"
   ]
  },
  {
   "cell_type": "markdown",
   "metadata": {},
   "source": [
    "Let's make sure it worked."
   ]
  },
  {
   "cell_type": "code",
   "execution_count": 30,
   "metadata": {
    "collapsed": false
   },
   "outputs": [
    {
     "data": {
      "image/png": "[encoded data removed]",
      "text/plain": [
       "<matplotlib.figure.Figure at 0x2da77588>"
      ]
     },
     "metadata": {},
     "output_type": "display_data"
    }
   ],
   "source": [
    "instascatter(df, 'PROP_GROSSSQFT', 'PROP_VALCALC', 'Gross square feet', 'Estimated value', 'Square footage and Housing Value')"
   ]
  },
  {
   "cell_type": "markdown",
   "metadata": {},
   "source": [
    "#"
   ]
  },
  {
   "cell_type": "markdown",
   "metadata": {},
   "source": [
    "Missing Values"
   ]
  },
  {
   "cell_type": "code",
   "execution_count": 47,
   "metadata": {
    "collapsed": false
   },
   "outputs": [
    {
     "data": {
      "text/html": [
       "<div>\n",
       "<table border=\"1\" class=\"dataframe\">\n",
       "  <thead>\n",
       "    <tr style=\"text-align: right;\">\n",
       "      <th></th>\n",
       "      <th>Percent Missing</th>\n",
       "    </tr>\n",
       "  </thead>\n",
       "  <tbody>\n",
       "    <tr>\n",
       "      <th>INTERNAL5</th>\n",
       "      <td>100.000</td>\n",
       "    </tr>\n",
       "    <tr>\n",
       "      <th>PROP_MTGASSUMPTIONAMT2</th>\n",
       "      <td>100.000</td>\n",
       "    </tr>\n",
       "    <tr>\n",
       "      <th>PHONE2</th>\n",
       "      <td>100.000</td>\n",
       "    </tr>\n",
       "    <tr>\n",
       "      <th>PROP_APPRAISED_VAL</th>\n",
       "      <td>100.000</td>\n",
       "    </tr>\n",
       "    <tr>\n",
       "      <th>PROP_APPRAISED_LANDVAL</th>\n",
       "      <td>100.000</td>\n",
       "    </tr>\n",
       "    <tr>\n",
       "      <th>PROP_APPRAISED_IMPVAL</th>\n",
       "      <td>100.000</td>\n",
       "    </tr>\n",
       "    <tr>\n",
       "      <th>INTERNAL4</th>\n",
       "      <td>100.000</td>\n",
       "    </tr>\n",
       "    <tr>\n",
       "      <th>PROP_HOMESTEAD</th>\n",
       "      <td>100.000</td>\n",
       "    </tr>\n",
       "    <tr>\n",
       "      <th>PROP_XMT_DISABLED</th>\n",
       "      <td>100.000</td>\n",
       "    </tr>\n",
       "    <tr>\n",
       "      <th>INTERNAL</th>\n",
       "      <td>100.000</td>\n",
       "    </tr>\n",
       "    <tr>\n",
       "      <th>PROP_MTGASSUMPTIONAMT</th>\n",
       "      <td>100.000</td>\n",
       "    </tr>\n",
       "    <tr>\n",
       "      <th>PHONE</th>\n",
       "      <td>100.000</td>\n",
       "    </tr>\n",
       "    <tr>\n",
       "      <th>PROP_MTGASSUMPTIONAMT3</th>\n",
       "      <td>100.000</td>\n",
       "    </tr>\n",
       "    <tr>\n",
       "      <th>INTERNAL3</th>\n",
       "      <td>100.000</td>\n",
       "    </tr>\n",
       "    <tr>\n",
       "      <th>INTERNAL2</th>\n",
       "      <td>100.000</td>\n",
       "    </tr>\n",
       "    <tr>\n",
       "      <th>PROP_1QTRBATHS</th>\n",
       "      <td>99.996</td>\n",
       "    </tr>\n",
       "    <tr>\n",
       "      <th>PROP_PRKGSPACES</th>\n",
       "      <td>99.974</td>\n",
       "    </tr>\n",
       "    <tr>\n",
       "      <th>PROP_3QTRBATHS</th>\n",
       "      <td>99.831</td>\n",
       "    </tr>\n",
       "    <tr>\n",
       "      <th>PROP_DEPTHFT</th>\n",
       "      <td>99.768</td>\n",
       "    </tr>\n",
       "    <tr>\n",
       "      <th>PROP_FRONTIFT</th>\n",
       "      <td>99.766</td>\n",
       "    </tr>\n",
       "    <tr>\n",
       "      <th>PROP_GROSSSQFT</th>\n",
       "      <td>99.583</td>\n",
       "    </tr>\n",
       "    <tr>\n",
       "      <th>PROP_GRDFLRSQFT</th>\n",
       "      <td>98.590</td>\n",
       "    </tr>\n",
       "    <tr>\n",
       "      <th>PROP_APNCNT</th>\n",
       "      <td>97.125</td>\n",
       "    </tr>\n",
       "    <tr>\n",
       "      <th>PROP_MTGINTRATE3</th>\n",
       "      <td>96.648</td>\n",
       "    </tr>\n",
       "    <tr>\n",
       "      <th>PROP_MTGINTRATE2</th>\n",
       "      <td>95.536</td>\n",
       "    </tr>\n",
       "    <tr>\n",
       "      <th>PROP_MTGINTRATE</th>\n",
       "      <td>93.919</td>\n",
       "    </tr>\n",
       "    <tr>\n",
       "      <th>PROP_HALFBATHS</th>\n",
       "      <td>80.336</td>\n",
       "    </tr>\n",
       "    <tr>\n",
       "      <th>PROP_MTGTERM3</th>\n",
       "      <td>80.296</td>\n",
       "    </tr>\n",
       "    <tr>\n",
       "      <th>PROP_MTGDUEDATE3</th>\n",
       "      <td>79.926</td>\n",
       "    </tr>\n",
       "    <tr>\n",
       "      <th>PROP_MTGAMT3</th>\n",
       "      <td>78.519</td>\n",
       "    </tr>\n",
       "  </tbody>\n",
       "</table>\n",
       "</div>"
      ],
      "text/plain": [
       "                        Percent Missing\n",
       "INTERNAL5                       100.000\n",
       "PROP_MTGASSUMPTIONAMT2          100.000\n",
       "PHONE2                          100.000\n",
       "PROP_APPRAISED_VAL              100.000\n",
       "PROP_APPRAISED_LANDVAL          100.000\n",
       "PROP_APPRAISED_IMPVAL           100.000\n",
       "INTERNAL4                       100.000\n",
       "PROP_HOMESTEAD                  100.000\n",
       "PROP_XMT_DISABLED               100.000\n",
       "INTERNAL                        100.000\n",
       "PROP_MTGASSUMPTIONAMT           100.000\n",
       "PHONE                           100.000\n",
       "PROP_MTGASSUMPTIONAMT3          100.000\n",
       "INTERNAL3                       100.000\n",
       "INTERNAL2                       100.000\n",
       "PROP_1QTRBATHS                   99.996\n",
       "PROP_PRKGSPACES                  99.974\n",
       "PROP_3QTRBATHS                   99.831\n",
       "PROP_DEPTHFT                     99.768\n",
       "PROP_FRONTIFT                    99.766\n",
       "PROP_GROSSSQFT                   99.583\n",
       "PROP_GRDFLRSQFT                  98.590\n",
       "PROP_APNCNT                      97.125\n",
       "PROP_MTGINTRATE3                 96.648\n",
       "PROP_MTGINTRATE2                 95.536\n",
       "PROP_MTGINTRATE                  93.919\n",
       "PROP_HALFBATHS                   80.336\n",
       "PROP_MTGTERM3                    80.296\n",
       "PROP_MTGDUEDATE3                 79.926\n",
       "PROP_MTGAMT3                     78.519"
      ]
     },
     "execution_count": 47,
     "metadata": {},
     "output_type": "execute_result"
    }
   ],
   "source": [
    "all_na = (df.isnull().sum() / len(df)) * 100\n",
    "all_na = all_na.drop(all_na[all_na == 0].index).sort_values(ascending=False)[:30]\n",
    "missing_data = pd.DataFrame({'Percent Missing' :all_na})\n",
    "missing_data.head(100)"
   ]
  },
  {
   "cell_type": "code",
   "execution_count": 48,
   "metadata": {
    "collapsed": false
   },
   "outputs": [
    {
     "data": {
      "text/plain": [
       "<matplotlib.text.Text at 0x2d9ad630>"
      ]
     },
     "execution_count": 48,
     "metadata": {},
     "output_type": "execute_result"
    },
    {
     "data": {
      "image/png": "[encoded data removed]",
      "text/plain": [
       "<matplotlib.figure.Figure at 0x2d974940>"
      ]
     },
     "metadata": {},
     "output_type": "display_data"
    }
   ],
   "source": [
    "f, ax = plt.subplots(figsize=(15, 9))\n",
    "plt.xticks(rotation='90')\n",
    "sns.barplot(x=all_na.index, y=all_na)\n",
    "plt.xlabel('Features')\n",
    "plt.ylabel('Percent of missing values')\n",
    "plt.title('Percent missing data by feature')"
   ]
  },
  {
   "cell_type": "code",
   "execution_count": 61,
   "metadata": {
    "collapsed": false
   },
   "outputs": [],
   "source": [
    "missing_list = list(missing_data.index)\n",
    "missing_list = [m for m in missing_list if missing_data['Percent Missing'].loc[m]>50]"
   ]
  },
  {
   "cell_type": "code",
   "execution_count": 62,
   "metadata": {
    "collapsed": false
   },
   "outputs": [
    {
     "data": {
      "text/plain": [
       "['INTERNAL5',\n",
       " 'PROP_MTGASSUMPTIONAMT2',\n",
       " 'PHONE2',\n",
       " 'PROP_APPRAISED_VAL',\n",
       " 'PROP_APPRAISED_LANDVAL',\n",
       " 'PROP_APPRAISED_IMPVAL',\n",
       " 'INTERNAL4',\n",
       " 'PROP_HOMESTEAD',\n",
       " 'PROP_XMT_DISABLED',\n",
       " 'INTERNAL',\n",
       " 'PROP_MTGASSUMPTIONAMT',\n",
       " 'PHONE',\n",
       " 'PROP_MTGASSUMPTIONAMT3',\n",
       " 'INTERNAL3',\n",
       " 'INTERNAL2',\n",
       " 'PROP_1QTRBATHS',\n",
       " 'PROP_PRKGSPACES',\n",
       " 'PROP_3QTRBATHS',\n",
       " 'PROP_DEPTHFT',\n",
       " 'PROP_FRONTIFT',\n",
       " 'PROP_GROSSSQFT',\n",
       " 'PROP_GRDFLRSQFT',\n",
       " 'PROP_APNCNT',\n",
       " 'PROP_MTGINTRATE3',\n",
       " 'PROP_MTGINTRATE2',\n",
       " 'PROP_MTGINTRATE',\n",
       " 'PROP_HALFBATHS',\n",
       " 'PROP_MTGTERM3',\n",
       " 'PROP_MTGDUEDATE3',\n",
       " 'PROP_MTGAMT3']"
      ]
     },
     "execution_count": 62,
     "metadata": {},
     "output_type": "execute_result"
    }
   ],
   "source": [
    "missing_list"
   ]
  },
  {
   "cell_type": "code",
   "execution_count": null,
   "metadata": {
    "collapsed": true
   },
   "outputs": [],
   "source": []
  },
  {
   "cell_type": "code",
   "execution_count": null,
   "metadata": {
    "collapsed": true
   },
   "outputs": [],
   "source": []
  },
  {
   "cell_type": "code",
   "execution_count": null,
   "metadata": {
    "collapsed": true
   },
   "outputs": [],
   "source": []
  },
  {
   "cell_type": "code",
   "execution_count": null,
   "metadata": {
    "collapsed": true
   },
   "outputs": [],
   "source": []
  },
  {
   "cell_type": "code",
   "execution_count": null,
   "metadata": {
    "collapsed": true
   },
   "outputs": [],
   "source": []
  },
  {
   "cell_type": "code",
   "execution_count": null,
   "metadata": {
    "collapsed": true
   },
   "outputs": [],
   "source": []
  },
  {
   "cell_type": "code",
   "execution_count": 43,
   "metadata": {
    "collapsed": false
   },
   "outputs": [
    {
     "name": "stdout",
     "output_type": "stream",
     "text": [
      "\n",
      " mu = nan and sigma = nan\n",
      "\n"
     ]
    },
    {
     "data": {
      "image/png": "[encoded data removed]",
      "text/plain": [
       "<matplotlib.figure.Figure at 0x2d9a17b8>"
      ]
     },
     "metadata": {},
     "output_type": "display_data"
    },
    {
     "data": {
      "image/png": "[encoded data removed]",
      "text/plain": [
       "<matplotlib.figure.Figure at 0x2da5fef0>"
      ]
     },
     "metadata": {},
     "output_type": "display_data"
    }
   ],
   "source": [
    "#sns.distplot(df['PROP_VALCALC'].dropna() , fit=norm);\n",
    "#(mu, sigma) = norm.fit(df['PROP_VALCALC'])\n",
    "#print( '\\n mu = {:.2f} and sigma = {:.2f}\\n'.format(mu, sigma))\n",
    "#plt.legend(['Normal ($\\mu=$ {:.2f} and $\\sigma=$ {:.2f} )'.format(mu, sigma)],\n",
    "#            loc='best')\n",
    "#plt.ylabel('Frequency')\n",
    "#plt.title('Valuation Distribution', fontsize=12)\n",
    "#fig = plt.figure()\n",
    "#res = stats.probplot(df['PROP_VALCALC'].dropna(), plot=plt)\n",
    "#plt.show()"
   ]
  },
  {
   "cell_type": "markdown",
   "metadata": {},
   "source": []
  },
  {
   "cell_type": "code",
   "execution_count": null,
   "metadata": {
    "collapsed": true
   },
   "outputs": [],
   "source": []
  },
  {
   "cell_type": "markdown",
   "metadata": {},
   "source": []
  },
  {
   "cell_type": "code",
   "execution_count": null,
   "metadata": {
    "collapsed": true
   },
   "outputs": [],
   "source": []
  },
  {
   "cell_type": "code",
   "execution_count": null,
   "metadata": {
    "collapsed": true
   },
   "outputs": [],
   "source": [
    "################################################"
   ]
  },
  {
   "cell_type": "code",
   "execution_count": null,
   "metadata": {
    "collapsed": true
   },
   "outputs": [],
   "source": []
  },
  {
   "cell_type": "code",
   "execution_count": null,
   "metadata": {
    "collapsed": true
   },
   "outputs": [],
   "source": []
  },
  {
   "cell_type": "code",
   "execution_count": null,
   "metadata": {
    "collapsed": true
   },
   "outputs": [],
   "source": []
  },
  {
   "cell_type": "code",
   "execution_count": null,
   "metadata": {
    "collapsed": true
   },
   "outputs": [],
   "source": []
  },
  {
   "cell_type": "code",
   "execution_count": null,
   "metadata": {
    "collapsed": true
   },
   "outputs": [],
   "source": []
  },
  {
   "cell_type": "code",
   "execution_count": null,
   "metadata": {
    "collapsed": true
   },
   "outputs": [],
   "source": []
  },
  {
   "cell_type": "code",
   "execution_count": null,
   "metadata": {
    "collapsed": true
   },
   "outputs": [],
   "source": []
  },
  {
   "cell_type": "code",
   "execution_count": null,
   "metadata": {
    "collapsed": true
   },
   "outputs": [],
   "source": []
  },
  {
   "cell_type": "code",
   "execution_count": null,
   "metadata": {
    "collapsed": true
   },
   "outputs": [],
   "source": []
  },
  {
   "cell_type": "code",
   "execution_count": null,
   "metadata": {
    "collapsed": true
   },
   "outputs": [],
   "source": []
  },
  {
   "cell_type": "code",
   "execution_count": null,
   "metadata": {
    "collapsed": true
   },
   "outputs": [],
   "source": []
  }
 ],
 "metadata": {
  "kernelspec": {
   "display_name": "Python [Root]",
   "language": "python",
   "name": "Python [Root]"
  },
  "language_info": {
   "codemirror_mode": {
    "name": "ipython",
    "version": 2
   },
   "file_extension": ".py",
   "mimetype": "text/x-python",
   "name": "python",
   "nbconvert_exporter": "python",
   "pygments_lexer": "ipython2",
   "version": "2.7.12"
  }
 },
 "nbformat": 4,
 "nbformat_minor": 2
}
